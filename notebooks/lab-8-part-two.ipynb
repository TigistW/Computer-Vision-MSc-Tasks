{
  "nbformat": 4,
  "nbformat_minor": 0,
  "metadata": {
    "colab": {
      "provenance": []
    },
    "kernelspec": {
      "name": "python3",
      "display_name": "Python 3"
    },
    "language_info": {
      "name": "python"
    }
  },
  "cells": [
    {
      "cell_type": "code",
      "execution_count": 1,
      "metadata": {
        "colab": {
          "base_uri": "https://localhost:8080/"
        },
        "id": "xmtHuc-SDunf",
        "outputId": "ff97b8c4-f39d-4cce-c19a-3a12601854a5"
      },
      "outputs": [
        {
          "output_type": "stream",
          "name": "stdout",
          "text": [
            "Requirement already satisfied: scikit-learn in /usr/local/lib/python3.12/dist-packages (1.6.1)\n",
            "Requirement already satisfied: opencv-python in /usr/local/lib/python3.12/dist-packages (4.12.0.88)\n",
            "Requirement already satisfied: matplotlib in /usr/local/lib/python3.12/dist-packages (3.10.0)\n",
            "Requirement already satisfied: numpy in /usr/local/lib/python3.12/dist-packages (2.0.2)\n",
            "Requirement already satisfied: seaborn in /usr/local/lib/python3.12/dist-packages (0.13.2)\n",
            "Requirement already satisfied: scipy>=1.6.0 in /usr/local/lib/python3.12/dist-packages (from scikit-learn) (1.16.1)\n",
            "Requirement already satisfied: joblib>=1.2.0 in /usr/local/lib/python3.12/dist-packages (from scikit-learn) (1.5.2)\n",
            "Requirement already satisfied: threadpoolctl>=3.1.0 in /usr/local/lib/python3.12/dist-packages (from scikit-learn) (3.6.0)\n",
            "Requirement already satisfied: contourpy>=1.0.1 in /usr/local/lib/python3.12/dist-packages (from matplotlib) (1.3.3)\n",
            "Requirement already satisfied: cycler>=0.10 in /usr/local/lib/python3.12/dist-packages (from matplotlib) (0.12.1)\n",
            "Requirement already satisfied: fonttools>=4.22.0 in /usr/local/lib/python3.12/dist-packages (from matplotlib) (4.59.2)\n",
            "Requirement already satisfied: kiwisolver>=1.3.1 in /usr/local/lib/python3.12/dist-packages (from matplotlib) (1.4.9)\n",
            "Requirement already satisfied: packaging>=20.0 in /usr/local/lib/python3.12/dist-packages (from matplotlib) (25.0)\n",
            "Requirement already satisfied: pillow>=8 in /usr/local/lib/python3.12/dist-packages (from matplotlib) (11.3.0)\n",
            "Requirement already satisfied: pyparsing>=2.3.1 in /usr/local/lib/python3.12/dist-packages (from matplotlib) (3.2.3)\n",
            "Requirement already satisfied: python-dateutil>=2.7 in /usr/local/lib/python3.12/dist-packages (from matplotlib) (2.9.0.post0)\n",
            "Requirement already satisfied: pandas>=1.2 in /usr/local/lib/python3.12/dist-packages (from seaborn) (2.2.2)\n",
            "Requirement already satisfied: pytz>=2020.1 in /usr/local/lib/python3.12/dist-packages (from pandas>=1.2->seaborn) (2025.2)\n",
            "Requirement already satisfied: tzdata>=2022.7 in /usr/local/lib/python3.12/dist-packages (from pandas>=1.2->seaborn) (2025.2)\n",
            "Requirement already satisfied: six>=1.5 in /usr/local/lib/python3.12/dist-packages (from python-dateutil>=2.7->matplotlib) (1.17.0)\n"
          ]
        }
      ],
      "source": [
        "!pip install scikit-learn opencv-python matplotlib numpy seaborn"
      ]
    },
    {
      "cell_type": "code",
      "source": [
        "# lab8_digits.py\n",
        "import cv2\n",
        "import numpy as np\n",
        "import matplotlib.pyplot as plt\n",
        "import seaborn as sns\n",
        "from sklearn.model_selection import train_test_split, cross_val_score, GridSearchCV\n",
        "from sklearn.metrics import classification_report, confusion_matrix, accuracy_score\n",
        "from sklearn.datasets import load_digits\n",
        "from sklearn.neighbors import KNeighborsClassifier\n",
        "from sklearn.svm import SVC\n",
        "from sklearn.tree import DecisionTreeClassifier\n",
        "from sklearn.preprocessing import StandardScaler\n",
        "\n"
      ],
      "metadata": {
        "id": "A3wjSIB8GCAi"
      },
      "execution_count": 2,
      "outputs": []
    },
    {
      "cell_type": "code",
      "source": [
        "# 1. Load dataset\n",
        "data = load_digits()\n",
        "X = data.images # shape (n_samples, 8, 8)\n",
        "y = data.target\n",
        "n_samples = len(X)\n",
        "X = X.reshape((n_samples, -1)) # flatten to (n_samples, 64)\n",
        "\n"
      ],
      "metadata": {
        "id": "ZzB74beTGJmE"
      },
      "execution_count": 3,
      "outputs": []
    },
    {
      "cell_type": "code",
      "source": [
        "# 2. Train/test split\n",
        "X_train, X_test, y_train, y_test = train_test_split(X, y, test_size=0.25, random_state=42, stratify=y)\n"
      ],
      "metadata": {
        "id": "7srFho2EGLfv"
      },
      "execution_count": 4,
      "outputs": []
    },
    {
      "cell_type": "code",
      "source": [
        "# 3. Optionally scale features (useful for SVM)\n",
        "scaler = StandardScaler()\n",
        "X_train_scaled = scaler.fit_transform(X_train)\n",
        "X_test_scaled = scaler.transform(X_test)"
      ],
      "metadata": {
        "id": "7baDYWmlGOUg"
      },
      "execution_count": 5,
      "outputs": []
    },
    {
      "cell_type": "code",
      "source": [
        "# 4. KNN\n",
        "knn = KNeighborsClassifier(n_neighbors=5)\n",
        "knn.fit(X_train, y_train)\n",
        "y_pred_knn = knn.predict(X_test)\n",
        "\n",
        "print(\"--- KNN ---\")\n",
        "print(classification_report(y_test, y_pred_knn))\n",
        "print(\"Accuracy:\", accuracy_score(y_test, y_pred_knn))\n"
      ],
      "metadata": {
        "colab": {
          "base_uri": "https://localhost:8080/"
        },
        "id": "5kwQNHoRG0Oy",
        "outputId": "e40e0e63-987b-4f24-9d0e-86772228338b"
      },
      "execution_count": 7,
      "outputs": [
        {
          "output_type": "stream",
          "name": "stdout",
          "text": [
            "--- KNN ---\n",
            "              precision    recall  f1-score   support\n",
            "\n",
            "           0       1.00      1.00      1.00        45\n",
            "           1       0.96      1.00      0.98        46\n",
            "           2       1.00      1.00      1.00        44\n",
            "           3       0.98      1.00      0.99        46\n",
            "           4       0.98      1.00      0.99        45\n",
            "           5       1.00      0.98      0.99        46\n",
            "           6       1.00      1.00      1.00        45\n",
            "           7       0.98      1.00      0.99        45\n",
            "           8       0.97      0.91      0.94        43\n",
            "           9       0.98      0.96      0.97        45\n",
            "\n",
            "    accuracy                           0.98       450\n",
            "   macro avg       0.98      0.98      0.98       450\n",
            "weighted avg       0.98      0.98      0.98       450\n",
            "\n",
            "Accuracy: 0.9844444444444445\n"
          ]
        }
      ]
    },
    {
      "cell_type": "code",
      "source": [
        "# 5. SVM (linear kernel)\n",
        "svm = SVC(kernel='linear', C=1, random_state=42)\n",
        "svm.fit(X_train_scaled, y_train)\n",
        "y_pred_svm = svm.predict(X_test_scaled)\n",
        "\n",
        "\n",
        "print(\"\\n--- SVM (linear) ---\")\n",
        "print(classification_report(y_test, y_pred_svm))\n",
        "print(\"Accuracy:\", accuracy_score(y_test, y_pred_svm))\n"
      ],
      "metadata": {
        "colab": {
          "base_uri": "https://localhost:8080/"
        },
        "id": "gZaGbdWrG7NK",
        "outputId": "730830a6-807b-4dc6-dddc-2815c15f42ac"
      },
      "execution_count": 8,
      "outputs": [
        {
          "output_type": "stream",
          "name": "stdout",
          "text": [
            "\n",
            "--- SVM (linear) ---\n",
            "              precision    recall  f1-score   support\n",
            "\n",
            "           0       1.00      1.00      1.00        45\n",
            "           1       0.94      0.98      0.96        46\n",
            "           2       1.00      1.00      1.00        44\n",
            "           3       0.98      0.98      0.98        46\n",
            "           4       1.00      1.00      1.00        45\n",
            "           5       1.00      0.96      0.98        46\n",
            "           6       0.98      1.00      0.99        45\n",
            "           7       0.98      1.00      0.99        45\n",
            "           8       1.00      0.88      0.94        43\n",
            "           9       0.94      1.00      0.97        45\n",
            "\n",
            "    accuracy                           0.98       450\n",
            "   macro avg       0.98      0.98      0.98       450\n",
            "weighted avg       0.98      0.98      0.98       450\n",
            "\n",
            "Accuracy: 0.98\n"
          ]
        }
      ]
    },
    {
      "cell_type": "code",
      "source": [
        "# 6. Decision Tree\n",
        "dtree = DecisionTreeClassifier(max_depth=10, random_state=42)\n",
        "dtree.fit(X_train, y_train)\n",
        "y_pred_tree = dtree.predict(X_test)\n",
        "\n",
        "\n",
        "print(\"\\n--- Decision Tree ---\")\n",
        "print(classification_report(y_test, y_pred_tree))\n",
        "print(\"Accuracy:\", accuracy_score(y_test, y_pred_tree))\n"
      ],
      "metadata": {
        "colab": {
          "base_uri": "https://localhost:8080/"
        },
        "id": "vFMMt0O8HGMx",
        "outputId": "0f2d7248-ad9c-4e25-993e-800ab32434c4"
      },
      "execution_count": 9,
      "outputs": [
        {
          "output_type": "stream",
          "name": "stdout",
          "text": [
            "\n",
            "--- Decision Tree ---\n",
            "              precision    recall  f1-score   support\n",
            "\n",
            "           0       0.93      0.91      0.92        45\n",
            "           1       0.80      0.78      0.79        46\n",
            "           2       0.85      0.77      0.81        44\n",
            "           3       0.90      0.83      0.86        46\n",
            "           4       0.81      0.84      0.83        45\n",
            "           5       0.91      0.93      0.92        46\n",
            "           6       0.95      0.87      0.91        45\n",
            "           7       0.71      0.91      0.80        45\n",
            "           8       0.78      0.72      0.75        43\n",
            "           9       0.76      0.78      0.77        45\n",
            "\n",
            "    accuracy                           0.84       450\n",
            "   macro avg       0.84      0.83      0.84       450\n",
            "weighted avg       0.84      0.84      0.84       450\n",
            "\n",
            "Accuracy: 0.8355555555555556\n"
          ]
        }
      ]
    },
    {
      "cell_type": "code",
      "source": [
        "# 7. Confusion matrices\n",
        "cm_knn = confusion_matrix(y_test, y_pred_knn)\n",
        "cm_svm = confusion_matrix(y_test, y_pred_svm)\n",
        "cm_tree = confusion_matrix(y_test, y_pred_tree)\n",
        "\n",
        "\n",
        "plt.figure(figsize=(8,6))\n",
        "sns.heatmap(cm_knn, annot=True, fmt='d')\n",
        "plt.title('Confusion Matrix - KNN')\n",
        "plt.xlabel('Predicted')\n",
        "plt.ylabel('True')\n",
        "print('\\nModels saved: knn_digits.joblib, svm_digits.joblib, dtree_digits.joblib, scaler.joblib')"
      ],
      "metadata": {
        "colab": {
          "base_uri": "https://localhost:8080/",
          "height": 599
        },
        "id": "fs-jNW81FpAg",
        "outputId": "4bb78ecc-9eff-4c1b-b24b-e7c223cbbde2"
      },
      "execution_count": 10,
      "outputs": [
        {
          "output_type": "stream",
          "name": "stdout",
          "text": [
            "\n",
            "Models saved: knn_digits.joblib, svm_digits.joblib, dtree_digits.joblib, scaler.joblib\n"
          ]
        },
        {
          "output_type": "display_data",
          "data": {
            "text/plain": [
              "<Figure size 800x600 with 2 Axes>"
            ],
            "image/png": "[encoded data removed]"
          },
          "metadata": {}
        }
      ]
    },
    {
      "cell_type": "markdown",
      "source": [
        "## Suggested Exercises — Implementations"
      ],
      "metadata": {
        "id": "_m5zIebuIDoA"
      }
    },
    {
      "cell_type": "code",
      "source": [
        "# Compare models using cross-validation\n",
        "models = {\n",
        "\"KNN\": KNeighborsClassifier(n_neighbors=5),\n",
        "\"SVM\": SVC(kernel='linear', C=1),\n",
        "\"Decision Tree\": DecisionTreeClassifier(max_depth=10)\n",
        "}\n",
        "\n",
        "\n",
        "for name, model in models.items():\n",
        "  if name == \"SVM\":\n",
        "    scores = cross_val_score(model, scaler.fit_transform(X), y, cv=5)\n",
        "  else:\n",
        "    scores = cross_val_score(model, X, y, cv=5)\n",
        "  print(f\"{name} CV mean accuracy: {scores.mean():.4f}\")"
      ],
      "metadata": {
        "colab": {
          "base_uri": "https://localhost:8080/"
        },
        "id": "alMRWr_IIFEN",
        "outputId": "45b5f917-cb98-45c4-fcd5-f3fe8c0c48ec"
      },
      "execution_count": 11,
      "outputs": [
        {
          "output_type": "stream",
          "name": "stdout",
          "text": [
            "KNN CV mean accuracy: 0.9627\n",
            "SVM CV mean accuracy: 0.9466\n",
            "Decision Tree CV mean accuracy: 0.7880\n"
          ]
        }
      ]
    },
    {
      "cell_type": "code",
      "source": [
        "# Tune hyperparameters (GridSearch examples)\n",
        "\n",
        "# KNN hyperparameter tuning\n",
        "param_grid_knn = {'n_neighbors': [1,2,3,4,5,7]}\n",
        "gs_knn = GridSearchCV(KNeighborsClassifier(), param_grid_knn, cv=5)\n",
        "gs_knn.fit(X, y)\n",
        "print(\"Best K for KNN:\", gs_knn.best_params_, \"with score\", gs_knn.best_score_)\n",
        "\n",
        "\n",
        "# Decision Tree tuning\n",
        "param_grid_tree = {'max_depth': [5,10,15,20], 'criterion': ['gini','entropy']}\n",
        "gs_tree = GridSearchCV(DecisionTreeClassifier(), param_grid_tree, cv=5)\n",
        "gs_tree.fit(X, y)\n",
        "print(\"Best Decision Tree params:\", gs_tree.best_params_, \"with score\", gs_tree.best_score_)"
      ],
      "metadata": {
        "colab": {
          "base_uri": "https://localhost:8080/"
        },
        "id": "jF0Sp1I2ITVO",
        "outputId": "0cf2e6e3-506b-4755-e94d-292077eb4341"
      },
      "execution_count": 14,
      "outputs": [
        {
          "output_type": "stream",
          "name": "stdout",
          "text": [
            "Best K for KNN: {'n_neighbors': 2} with score 0.9671711544413494\n",
            "Best Decision Tree params: {'criterion': 'entropy', 'max_depth': 15} with score 0.8130377592076756\n"
          ]
        }
      ]
    },
    {
      "cell_type": "code",
      "source": [
        "# Train models on your own digit/character dataset via OpenCV\n"
      ],
      "metadata": {
        "id": "-R30dVkHIt1T"
      },
      "execution_count": null,
      "outputs": []
    },
    {
      "cell_type": "code",
      "source": [
        "# Build a GUI-based digit recognition app with OpenCV\n",
        "def digit_recognition_gui(model):\n",
        "  canvas = np.ones((200, 200), dtype=np.uint8) * 255\n",
        "  drawing = False\n",
        "\n",
        "  def draw(event, x, y, flags, param):\n",
        "    nonlocal drawing\n",
        "    if event == cv2.EVENT_LBUTTONDOWN:\n",
        "      drawing = True\n",
        "    elif event == cv2.EVENT_MOUSEMOVE and drawing:\n",
        "      cv2.circle(canvas, (x,y), 8, (0,), -1)\n",
        "    elif event == cv2.EVENT_LBUTTONUP:\n",
        "      drawing = False\n",
        "\n",
        "\n",
        "  cv2.namedWindow(\"Draw Digit\")\n",
        "  cv2.setMouseCallback(\"Draw Digit\", draw)\n",
        "  while True:\n",
        "    cv2.imshow(\"Draw Digit\", canvas)\n",
        "    key = cv2.waitKey(1) & 0xFF\n",
        "    if key == ord('p'): # Predict\n",
        "      img_resized = cv2.resize(canvas, (8,8))\n",
        "      img_processed = (16 - (img_resized // 16)).flatten().reshape(1, -1)\n",
        "      pred = model.predict(img_processed)\n",
        "      print(\"Predicted Digit:\", pred[0])\n",
        "    elif key == ord('c'): # Clear canvas\n",
        "      canvas[:] = 255\n",
        "    elif key == 27: # ESC to exit\n",
        "      break\n",
        "  cv2.destroyAllWindows()\n"
      ],
      "metadata": {
        "id": "iJlbkfqEI79h"
      },
      "execution_count": 15,
      "outputs": []
    },
    {
      "cell_type": "code",
      "source": [
        "\n",
        "digit_recognition_gui(knn)"
      ],
      "metadata": {
        "id": "HOTHztyRJqjS"
      },
      "execution_count": null,
      "outputs": []
    }
  ]
}